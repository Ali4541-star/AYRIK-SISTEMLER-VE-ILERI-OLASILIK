{
  "nbformat": 4,
  "nbformat_minor": 0,
  "metadata": {
    "colab": {
      "provenance": [],
      "authorship_tag": "ABX9TyP7I7J+UvpJywV0S5/jbucO",
      "include_colab_link": true
    },
    "kernelspec": {
      "name": "python3",
      "display_name": "Python 3"
    },
    "language_info": {
      "name": "python"
    }
  },
  "cells": [
    {
      "cell_type": "markdown",
      "metadata": {
        "id": "view-in-github",
        "colab_type": "text"
      },
      "source": [
        "<a href=\"https://colab.research.google.com/github/Ali4541-star/AYRIK-SISTEMLER-VE-ILERI-OLASILIK/blob/main/HW3.ipynb\" target=\"_parent\"><img src=\"https://colab.research.google.com/assets/colab-badge.svg\" alt=\"Open In Colab\"/></a>"
      ]
    },
    {
      "cell_type": "code",
      "source": [
        "def factorial(n: int) -> int:\n",
        "  if n == 0:\n",
        "    return 1\n",
        "  return n * factorial(n-1)\n",
        "\n",
        "def permutation(n: int, r: int) -> int:\n",
        "  assert n >= r, \"Sıralanacak elemanların sayısı toplam eleman sayısından fazla olamaz\"\n",
        "  return factorial(n)//factorial(n-r)\n",
        "\n",
        "def combination(n: int, r:int) -> int:\n",
        "  if(r > n):\n",
        "    raise ValueError(\"R değeri N'den küçük olamaz\")\n",
        "  return factorial(n)//(factorial(r)*factorial(n-r))"
      ],
      "metadata": {
        "id": "Qk_WKJhR4NVL"
      },
      "execution_count": 18,
      "outputs": []
    },
    {
      "cell_type": "code",
      "source": [
        "complement = lambda x: 1 - x  "
      ],
      "metadata": {
        "id": "mDCfqrNXwxT2"
      },
      "execution_count": null,
      "outputs": []
    },
    {
      "cell_type": "markdown",
      "source": [
        "Bir fabrikada üretilen parçaların %5'i hatalıdır. Bir kontrol mekanizması, hatalı parçaların %90'ını doğru şekilde hatalı, %10'unu yanlış şekilde hatasız olarak tanımlayabilir. Ancak, hatalı olmayan bir parçayı hatalı olarak tanımlama olasılığı %3'tür. Bir rastgele seçilen parçanın kontrol mekanizması tarafından hatalı olarak tanımlanma olasılığı nedir?\n",
        "\n",
        "Çözüm: \n",
        "\n",
        "Hatalı parça olasılığı = 0.05\n",
        "\n",
        "Hatalı parça olarak tanımlanma olasılığı = 0.9\n",
        "\n",
        "Hatasız parça olarak tanımlanma olasılığı = 0.03\n",
        "\n",
        "\n",
        "Hatalı olarak tanımlanma olasılığı = 0.05 x 0.9 + 0.95 x 0.03 = 0.0735 -> %7.35"
      ],
      "metadata": {
        "id": "8ReJ2_MlwMTm"
      }
    },
    {
      "cell_type": "code",
      "execution_count": null,
      "metadata": {
        "colab": {
          "base_uri": "https://localhost:8080/"
        },
        "id": "mCQ44RXnlGaY",
        "outputId": "620704fe-57c9-4a93-c983-de4a02f72549"
      },
      "outputs": [
        {
          "output_type": "stream",
          "name": "stdout",
          "text": [
            "0.074\n"
          ]
        }
      ],
      "source": [
        "# Verilen değişkenler\n",
        "p_faulty_pieces = 0.05 \n",
        "p_true_faulty = 0.9\n",
        "p_false_not_faulty = 0.1\n",
        "p_false_faulty = 0.03\n",
        "\n",
        "# Çıkarımlar\n",
        "p_not_faulty_pieces = complement(p_faulty_pieces)\n",
        "p_true_not_faulty = complement(p_false_faulty)\n",
        "\n",
        "# Sonuç \n",
        "p_faulty = (p_faulty_pieces * p_true_faulty) + (p_not_faulty_pieces * p_false_faulty)\n",
        "print(f\"{p_faulty:.3f}\")"
      ]
    },
    {
      "cell_type": "markdown",
      "source": [
        "Bir cüzdan içerisinde 5 adet 1TL, 6 adet 5TL ve 4 adet 10TL bulunmaktadır. Çekilen 3 adet paranın toplamının en az 25TL olması olasılığı nedir?\n",
        "\n",
        "\n",
        "ÇÖZÜM: Bu çözümü sağlayan 2 adet kombinasyon vardır\n",
        "\n",
        "Kombinasyon 1: 2 adet 10 ve 1 adet 5 çekmek için, 4 adet 10 ve 5 adet 1 arasından 2 adet 10 ve 1 adet 5 seçilmesi gerekmektedir. Bu durumda, Kombinasyon 1'in ihtimali Komb(4, 2) * Komb(6, 1) / Komb(15, 3) = 36/455 olacaktır.\n",
        "\n",
        "Kombinasyon 2: 3 adet 10 çekmek için, 4 adet 10, 6 adet 5 ve 5 adet 1 arasından 3 adet 10 seçilmesi gerekmektedir. Bu durumda, Kombinasyon 2'nin ihtimali Komb(4, 3) * Komb(6, 0) * Komb(5, 0) / Komb(15, 3) = 4/455 olacaktır.\n",
        "\n",
        "Sonuç olarak, istenen durumların olasılığı Kombinasyon 1'in olasılığı ile Kombinasyon 2'nin olasılığı toplamına eşittir: 6/91 + 4/455 = 40/455 veya yaklaşık %8.8'dir."
      ],
      "metadata": {
        "id": "0S_6mYyt2j6u"
      }
    },
    {
      "cell_type": "code",
      "source": [
        "nb_of_banknotes = 15\n",
        "nb_of_selection = 3\n",
        "quantity_of_selections = (5, 6, 4)\n",
        "valid_combs = [(0, 1, 2), (0, 0, 3)]\n",
        "sample_space = combination(nb_of_banknotes, nb_of_selection)\n",
        "prob = 0\n",
        "valid_selections = 0\n",
        "\n",
        "for i in range(len(valid_combs)):\n",
        "  case_of_selection = valid_combs[i]\n",
        "  nominator = 1\n",
        "  for j in range(len(case_of_selection)):\n",
        "    print(quantity_of_selections[j], case_of_selection[j])\n",
        "    nominator *= combination(quantity_of_selections[j], case_of_selection[j])\n",
        "  valid_selections += nominator\n",
        "\n",
        "print(f\"{valid_selections/sample_space:.3f}\")\n",
        "\n"
      ],
      "metadata": {
        "id": "G1bkMNPbyDc0",
        "colab": {
          "base_uri": "https://localhost:8080/"
        },
        "outputId": "3413887a-737a-42f3-cad5-19d1111566cc"
      },
      "execution_count": 30,
      "outputs": [
        {
          "output_type": "stream",
          "name": "stdout",
          "text": [
            "5 0\n",
            "6 1\n",
            "4 2\n",
            "5 0\n",
            "6 0\n",
            "4 3\n",
            "0.088\n"
          ]
        }
      ]
    },
    {
      "cell_type": "markdown",
      "source": [
        "Bir şehirdeki bir lisede, 100 öğrencinin 70'i erkek, 30'u kızdır. Okulda matematik kulübüne 40 öğrenci kaydoldu. Bu öğrencilerin 30'u erkek, 10'u kızdır. Rastgele seçilen bir öğrencinin matematik kulübünde erkek öğrenci olma olasılığı nedir?\n",
        "\n",
        "ÇÖZÜM: \n",
        "\n",
        "M = matematik kulübü öğrencisi\n",
        "E = erkek öğrenci\n",
        "Ö = öğrenci\n",
        "P(M|E) = (P(E)*P(E|M))/P(Ö) = (70/100)*(30/70)/1 = %30"
      ],
      "metadata": {
        "id": "kNK9mZj1B1on"
      }
    },
    {
      "cell_type": "code",
      "source": [
        "from dataclasses import dataclass\n",
        "@dataclass(frozen=True)\n",
        "class Students:\n",
        "  male: int = 70\n",
        "  female: int = 30\n",
        "  total: int = 100\n",
        "\n",
        "class MathClub:\n",
        "  male: int = 30\n",
        "  female: int = 10\n",
        "  total: int = 40\n",
        "\n",
        "\n",
        "print(f\"{(Students.male/Students.total) * (MathClub.male/Students.male):.3f}\")\n",
        "\n"
      ],
      "metadata": {
        "colab": {
          "base_uri": "https://localhost:8080/"
        },
        "id": "hi89j9zW5yUF",
        "outputId": "934a658f-1cc8-43da-f893-029438888efb"
      },
      "execution_count": 37,
      "outputs": [
        {
          "output_type": "stream",
          "name": "stdout",
          "text": [
            "0.300\n"
          ]
        }
      ]
    },
    {
      "cell_type": "code",
      "source": [],
      "metadata": {
        "id": "UQR-qdy_6Pv2"
      },
      "execution_count": null,
      "outputs": []
    }
  ]
}