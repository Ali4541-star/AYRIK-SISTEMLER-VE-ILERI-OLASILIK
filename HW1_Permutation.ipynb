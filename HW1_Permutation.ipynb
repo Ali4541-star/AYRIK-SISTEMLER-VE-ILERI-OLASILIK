{
  "nbformat": 4,
  "nbformat_minor": 0,
  "metadata": {
    "colab": {
      "provenance": [],
      "authorship_tag": "ABX9TyNG11uoAmO4edgEHdqpEnaV",
      "include_colab_link": true
    },
    "kernelspec": {
      "name": "python3",
      "display_name": "Python 3"
    },
    "language_info": {
      "name": "python"
    }
  },
  "cells": [
    {
      "cell_type": "markdown",
      "metadata": {
        "id": "view-in-github",
        "colab_type": "text"
      },
      "source": [
        "<a href=\"https://colab.research.google.com/github/Ali4541-star/AYRIK-SISTEMLER-VE-ILERI-OLASILIK/blob/main/HW1_Permutation.ipynb\" target=\"_parent\"><img src=\"https://colab.research.google.com/assets/colab-badge.svg\" alt=\"Open In Colab\"/></a>"
      ]
    },
    {
      "cell_type": "code",
      "execution_count": 2,
      "metadata": {
        "id": "3i_EMATpwSa2"
      },
      "outputs": [],
      "source": [
        "def factorial(n: int) -> int:\n",
        "  if n == 0:\n",
        "    return 1\n",
        "  return n * factorial(n-1)\n",
        "\n",
        "def permutation(n: int, r: int) -> int:\n",
        "  assert n >= r, \"Sıralanacak elemanların sayısı toplam eleman sayısından fazla olamaz\"\n",
        "  return factorial(n)//factorial(n-r)\n",
        "\n",
        "def combination(n: int, r:int) -> int:\n",
        "  return factorial(n)//(factorial(r)*factorial(n-r))"
      ]
    },
    {
      "cell_type": "code",
      "source": [
        "combination(5, 2)"
      ],
      "metadata": {
        "colab": {
          "base_uri": "https://localhost:8080/"
        },
        "id": "7-xmkzhZ1Q8h",
        "outputId": "d7b76c79-d4b9-4371-8abd-e56b5ad6ca58"
      },
      "execution_count": 3,
      "outputs": [
        {
          "output_type": "execute_result",
          "data": {
            "text/plain": [
              "10"
            ]
          },
          "metadata": {},
          "execution_count": 3
        }
      ]
    },
    {
      "cell_type": "code",
      "source": [
        "factorial(5)"
      ],
      "metadata": {
        "colab": {
          "base_uri": "https://localhost:8080/"
        },
        "id": "Y6ANc8UMw3AR",
        "outputId": "d8aa0e4c-59da-44d8-9700-0f27d74fc4e9"
      },
      "execution_count": 4,
      "outputs": [
        {
          "output_type": "execute_result",
          "data": {
            "text/plain": [
              "120"
            ]
          },
          "metadata": {},
          "execution_count": 4
        }
      ]
    },
    {
      "cell_type": "code",
      "source": [
        "permutation(5, 3)"
      ],
      "metadata": {
        "colab": {
          "base_uri": "https://localhost:8080/"
        },
        "id": "-1rZ99lDxJ-J",
        "outputId": "8f77d471-56d3-45e3-dbc1-a290cfec7312"
      },
      "execution_count": 5,
      "outputs": [
        {
          "output_type": "execute_result",
          "data": {
            "text/plain": [
              "60"
            ]
          },
          "metadata": {},
          "execution_count": 5
        }
      ]
    },
    {
      "cell_type": "markdown",
      "source": [
        "**SORULAR**\n",
        "\n",
        "1- APPLE kelimesini oluşturan harfler kaç farklı şekilde sıralanabilir?  \n",
        "\n",
        "CEVAP: Toplamda 5 adet harf vardır. 5! şekilde sıralanabilir. Ancak 2 harf aynı olduğu için 2! farklı şekilde aynı sıralama olacaktır. Bu yüzden 5!/2! = 60 "
      ],
      "metadata": {
        "id": "sOHCijQ_5UHU"
      }
    },
    {
      "cell_type": "code",
      "source": [
        "permutation(5, 5)//permutation(2, 2)"
      ],
      "metadata": {
        "colab": {
          "base_uri": "https://localhost:8080/"
        },
        "id": "tCc3PpuQxNfv",
        "outputId": "ddbfd992-005c-47a0-92d5-452f937164c9"
      },
      "execution_count": 6,
      "outputs": [
        {
          "output_type": "execute_result",
          "data": {
            "text/plain": [
              "60"
            ]
          },
          "metadata": {},
          "execution_count": 6
        }
      ]
    },
    {
      "cell_type": "markdown",
      "source": [
        "2- 3 Hintli, 4 Amerikalı ve 4 İngiliz her millet kendi arasında grup olacak şekilde bir sıraya kaç farklı şekilde oturabilir?\n",
        "\n",
        "CEVAP: 3 Hintli kendi aralarında 3!, 4 Amerikalı kendi aralarında 4!, 4 İngiliz kendi aralarında 4! farklı şekilde oturabilir. Bu üç grup kendi aralarında 3! şekilde oturabilir. Sonuç = 3!.4!.4!.3! = 20736"
      ],
      "metadata": {
        "id": "wc-XNNR26cqp"
      }
    },
    {
      "cell_type": "code",
      "source": [
        "permutation(3, 3) * permutation(4, 4) * permutation(4, 4) * permutation(3, 3)"
      ],
      "metadata": {
        "colab": {
          "base_uri": "https://localhost:8080/"
        },
        "id": "PYkbTm4C6QC6",
        "outputId": "38d79f50-816e-4dd7-e7a6-30e316e0d661"
      },
      "execution_count": 7,
      "outputs": [
        {
          "output_type": "execute_result",
          "data": {
            "text/plain": [
              "20736"
            ]
          },
          "metadata": {},
          "execution_count": 7
        }
      ]
    },
    {
      "cell_type": "markdown",
      "source": [
        "3- En iyi ve en kötü sınavlar yan yana gelmeyecek şekilde 10 farklı sınav kağıdı kaç farklı şekilde sıralanır?\n",
        "\n",
        "CEVAP: \n",
        "\n",
        "İkisinin yan yana gelme durumu: 9!.2!\n",
        "\n",
        "İkisinin yan yana gelmeme durumu: 10!\n",
        "\n",
        "10! - 9!.2! = 10.9! - 2.9! = 8.9! = 2903040 "
      ],
      "metadata": {
        "id": "Kcx6AV9t8lsE"
      }
    },
    {
      "cell_type": "code",
      "source": [
        "permutation(10, 10) - permutation(2, 2)*permutation(9, 9)"
      ],
      "metadata": {
        "colab": {
          "base_uri": "https://localhost:8080/"
        },
        "id": "9nRH03108elQ",
        "outputId": "30e72e4d-797b-4377-e161-403adb02ffa0"
      },
      "execution_count": 8,
      "outputs": [
        {
          "output_type": "execute_result",
          "data": {
            "text/plain": [
              "2903040"
            ]
          },
          "metadata": {},
          "execution_count": 8
        }
      ]
    },
    {
      "cell_type": "markdown",
      "source": [
        "4- 6 farklı kişi 3 kişi yan yana olmak üzere bir yuvarlak masa etrafında kaç farklı şekilde oturabilir?\n",
        "\n",
        "CEVAP: 3 kişi 1 kişi kabul edilir. Bu durumda 4! şekilde oturulabilir. Ancak yuvarlak bir masa etrafında oturulduğu için 3! şekilde yer değiştirebilirler. 3 kişi de kendi arasında 3! yer değiştireceği için 3!.3! = 36"
      ],
      "metadata": {
        "id": "J3Wgf0v49oeX"
      }
    },
    {
      "cell_type": "code",
      "source": [
        "permutation(3, 3) * permutation(3, 3)"
      ],
      "metadata": {
        "colab": {
          "base_uri": "https://localhost:8080/"
        },
        "id": "JJj4U8DW9hEr",
        "outputId": "21e2362f-0a64-41bc-8ae2-30a1b654d1c4"
      },
      "execution_count": 9,
      "outputs": [
        {
          "output_type": "execute_result",
          "data": {
            "text/plain": [
              "36"
            ]
          },
          "metadata": {},
          "execution_count": 9
        }
      ]
    },
    {
      "cell_type": "markdown",
      "source": [
        "5- Ali, Veli ve 4 kişinin daha olduğu bir grup bir sıraya;\n",
        "\n",
        "a) Kaç farklı şekilde oturur?\n",
        "\n",
        "CEVAP: 6! şekilde oturabilirler\n",
        "\n",
        "b) Kaç farklı durumda Ali Velinin solunda olur?\n",
        "\n",
        "CEVAP: Yapılan sıralamaların yarısında Ali Velinin solundadır. 6!/2\n",
        "\n",
        "c) Kaç farklı durumda Ali Velinin bir sağında olur?\n",
        "\n",
        "CEVAP: Bu durumda Ali ve Veliyi beraber kabul etmek gerekir. Grup 5! şekilde oturabilir. Ali'nin Veli'nin hep solunda kalması gerektiği için aralarında sıralanamazlar"
      ],
      "metadata": {
        "id": "gXPeuDDY-hk4"
      }
    },
    {
      "cell_type": "code",
      "source": [
        "print(f\"a: {permutation(6, 6)}\")\n",
        "print(f\"b: {permutation(6, 6)//permutation(2, 2)}\")\n",
        "print(f\"c: {permutation(5, 5)}\")"
      ],
      "metadata": {
        "colab": {
          "base_uri": "https://localhost:8080/"
        },
        "id": "Fa6gLsJR-ViR",
        "outputId": "44859faa-801a-4d02-d01c-7cbb927b742a"
      },
      "execution_count": 10,
      "outputs": [
        {
          "output_type": "stream",
          "name": "stdout",
          "text": [
            "a: 720\n",
            "b: 360\n",
            "c: 120\n"
          ]
        }
      ]
    },
    {
      "cell_type": "markdown",
      "source": [
        "6- 1123330151 sayısındaki rakamlar yer değiştirerek 10 basamaklı kaç farklı sayı oluşturabilir?\n",
        "\n",
        "CEVAP: Normalde 10!/(4!.3!) olurdu. Ancak bu tür sorularda 0 başa gelemeyeceğinden dolayı 10!/(4!.3!)[tüm durumlar] - 9!/(4!.3!)[0'ın başta bulunduğu durumlar] = 22680"
      ],
      "metadata": {
        "id": "VK3ulNTSAQg6"
      }
    },
    {
      "cell_type": "code",
      "source": [
        "permutation(10, 10)//(permutation(4, 4) * permutation(3, 3)) - permutation(9, 9)//(permutation(4, 4) * permutation(3, 3)) "
      ],
      "metadata": {
        "colab": {
          "base_uri": "https://localhost:8080/"
        },
        "id": "y_Nm0IW2AMHy",
        "outputId": "8350b9c5-bea3-45fe-9c1c-7661d4af9aef"
      },
      "execution_count": 11,
      "outputs": [
        {
          "output_type": "execute_result",
          "data": {
            "text/plain": [
              "22680"
            ]
          },
          "metadata": {},
          "execution_count": 11
        }
      ]
    },
    {
      "cell_type": "markdown",
      "source": [
        "7- 10 kişi bir yuvarlak masada oturacaktır. Bu gruptan 2 kişi kardeştir. Bu iki kardeşin arasına bir kişi oturacak şekilde kaç farklı şekilde oturabilirler?\n",
        "\n",
        "CEVAP: \n",
        "\n",
        "3 kişi 1 kişi sayılır. Yuvarlak masaya oturdukları için 8-1 = 7! şekilde oturabilirler. Ancak 2 kişi 2! yer değiştirebileceği için toplamda 7!.2! şekilde oturabilirler\n",
        "\n"
      ],
      "metadata": {
        "id": "Ou2H_gxiCetn"
      }
    },
    {
      "cell_type": "code",
      "source": [
        "permutation(7, 7) * permutation(2, 2)"
      ],
      "metadata": {
        "colab": {
          "base_uri": "https://localhost:8080/"
        },
        "id": "yJleSnBZCbim",
        "outputId": "94cd2521-e077-484c-ce03-01e5c8d35b01"
      },
      "execution_count": 12,
      "outputs": [
        {
          "output_type": "execute_result",
          "data": {
            "text/plain": [
              "10080"
            ]
          },
          "metadata": {},
          "execution_count": 12
        }
      ]
    },
    {
      "cell_type": "markdown",
      "source": [
        "8- Bir sınıf fotoğrafı çekilecektir. 6 kız öne 10 erkek arkaya oturacaktır. 2 en uzun erkek en sağa ve en sola geçecektir. Kaç farklı şekilde sınıf fotoğrafı çekilebilir?\n",
        "\n",
        "CEVAP: Kızlar 6!, erkekler köşelerde sabit kalan 2 en uzun erkek olduğu için 8! şekilde sıralanırlar. En uzun kişiler 2! yer değiştirebilir. Kızların önde oturacağı belirtildiği için değişim yapılamaz. 6!*8!*2! = 58060800"
      ],
      "metadata": {
        "id": "mwTO82YuF8fE"
      }
    },
    {
      "cell_type": "code",
      "source": [
        "permutation(6, 6) * permutation(8, 8) * permutation(2, 2)"
      ],
      "metadata": {
        "colab": {
          "base_uri": "https://localhost:8080/"
        },
        "id": "BqRupFS8E4zY",
        "outputId": "e251f35a-6246-40da-ba9a-472e9a6487a8"
      },
      "execution_count": 13,
      "outputs": [
        {
          "output_type": "execute_result",
          "data": {
            "text/plain": [
              "58060800"
            ]
          },
          "metadata": {},
          "execution_count": 13
        }
      ]
    },
    {
      "cell_type": "markdown",
      "source": [
        "9- ASCENT kelimesinin harflerinden A ve T sırasıyla en başta ve en sonda olacak şekilde kaç farklı kelime türetilebilir?\n",
        "\n",
        "CEVAP: A ve T'nin yerleri bellidir. Kendi aralarında da yer değiştirememektedirler. Geriye yer değiştirebilecek 4 adet harf kalmıştır. 4! = 24"
      ],
      "metadata": {
        "id": "z6F1-gPcG7XC"
      }
    },
    {
      "cell_type": "code",
      "source": [
        "permutation(4, 4)"
      ],
      "metadata": {
        "colab": {
          "base_uri": "https://localhost:8080/"
        },
        "id": "Y0LoC-E5G5kJ",
        "outputId": "73897456-380f-4638-fa2d-ae6f85841e78"
      },
      "execution_count": 14,
      "outputs": [
        {
          "output_type": "execute_result",
          "data": {
            "text/plain": [
              "24"
            ]
          },
          "metadata": {},
          "execution_count": 14
        }
      ]
    },
    {
      "cell_type": "markdown",
      "source": [
        "![image.png](data:image/png;base64,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)"
      ],
      "metadata": {
        "id": "PSTt04uRImDu"
      }
    },
    {
      "cell_type": "markdown",
      "source": [
        "10- A'dan B'ye en kısa kaç farklı şekilde gidilebilir?\n",
        "\n",
        "CEVAP: A'dan B'ye gitmenin en kısa yolları aşağı ve sağa gitmektir. 5 defa sağ hareketi 3 defa aşağı hareketi yapılmalıdır. Toplamda 8 hareket yapılmalıdır. Bundan dolayı cevap 8!/(5!.3!) = 56 "
      ],
      "metadata": {
        "id": "hCzbgS-qIozd"
      }
    },
    {
      "cell_type": "code",
      "source": [
        "permutation(8, 8) // (permutation(3, 3) * permutation(5, 5))"
      ],
      "metadata": {
        "colab": {
          "base_uri": "https://localhost:8080/"
        },
        "id": "FlyB7UcfHqp_",
        "outputId": "a00a7d32-a9b9-415f-ec59-82978e75586e"
      },
      "execution_count": 15,
      "outputs": [
        {
          "output_type": "execute_result",
          "data": {
            "text/plain": [
              "56"
            ]
          },
          "metadata": {},
          "execution_count": 15
        }
      ]
    },
    {
      "cell_type": "markdown",
      "source": [
        "11- KELEBEK kelimesindeki harflerle kaç farklı kelime yazılabilir?\n",
        "\n",
        "CEVAP: 3 adet tekrar eden 'K' ve 2 adet tekrar eden 'E' var. 7!/(2!.3!) = 420"
      ],
      "metadata": {
        "id": "6moLv9LFKpSi"
      }
    },
    {
      "cell_type": "code",
      "source": [
        "permutation(7, 7) // (permutation(3, 3) * permutation(2, 2))"
      ],
      "metadata": {
        "colab": {
          "base_uri": "https://localhost:8080/"
        },
        "id": "5e7dJxslJdLe",
        "outputId": "4b2430dd-1f62-4a22-ceb7-9e4866fc2cb0"
      },
      "execution_count": 16,
      "outputs": [
        {
          "output_type": "execute_result",
          "data": {
            "text/plain": [
              "420"
            ]
          },
          "metadata": {},
          "execution_count": 16
        }
      ]
    },
    {
      "cell_type": "markdown",
      "source": [
        "12- Aynı doğru üzerinde olmayan 7 noktadan kaç farklı üçgen oluşturulabilir?\n",
        "\n",
        "CEVAP: 7 noktadan 3 tanesi seçilecektir. C(7, 3)"
      ],
      "metadata": {
        "id": "zAUOjo8hF3Tl"
      }
    },
    {
      "cell_type": "code",
      "source": [
        "combination(7, 3)"
      ],
      "metadata": {
        "id": "5lKjd4bULJmy",
        "colab": {
          "base_uri": "https://localhost:8080/"
        },
        "outputId": "4e32bd0b-e85d-45b7-a599-b765891a2851"
      },
      "execution_count": 17,
      "outputs": [
        {
          "output_type": "execute_result",
          "data": {
            "text/plain": [
              "35"
            ]
          },
          "metadata": {},
          "execution_count": 17
        }
      ]
    },
    {
      "cell_type": "markdown",
      "source": [
        "13- 6 erkek ve 4 kadından 5 kişilik bir komite oluşturulacaktır. En az bir kadının bulunduğu kaç farklı komite oluşturulabilir?\n",
        "\n",
        " "
      ],
      "metadata": {
        "id": "tHkZ5xIBGNWY"
      }
    },
    {
      "cell_type": "code",
      "source": [
        "result = 0\n",
        "for i in range(4):\n",
        "  result += combination(6, (5-i))* combination(4, i)\n",
        "\n",
        "result"
      ],
      "metadata": {
        "colab": {
          "base_uri": "https://localhost:8080/"
        },
        "id": "x7lAc65WGG6D",
        "outputId": "9104b2b3-0e06-43d7-8b3e-6b01522fb5df"
      },
      "execution_count": 18,
      "outputs": [
        {
          "output_type": "execute_result",
          "data": {
            "text/plain": [
              "246"
            ]
          },
          "metadata": {},
          "execution_count": 18
        }
      ]
    },
    {
      "cell_type": "markdown",
      "source": [],
      "metadata": {
        "id": "2xVR1O_bQyXc"
      }
    },
    {
      "cell_type": "markdown",
      "source": [
        "14- Bir hokey liginde 153 maç oynanmıştır. Her takım birbiriyle bir kere oynadığına göre bu ligde kaç takım vardır?\n",
        "\n",
        "CEVAP: C(n, 2) = n!/(2!.(n-2)!) = (n.(n-1))/2 = 153\n",
        "\n",
        "n = 18"
      ],
      "metadata": {
        "id": "K3Lt_vG2JCR1"
      }
    },
    {
      "cell_type": "code",
      "source": [
        "combination(18, 2)"
      ],
      "metadata": {
        "colab": {
          "base_uri": "https://localhost:8080/"
        },
        "id": "8UZ8Oa4oQrgD",
        "outputId": "e1746e3c-5c2b-40bf-ae6f-61d0c93d0569"
      },
      "execution_count": 24,
      "outputs": [
        {
          "output_type": "execute_result",
          "data": {
            "text/plain": [
              "153"
            ]
          },
          "metadata": {},
          "execution_count": 24
        }
      ]
    },
    {
      "cell_type": "code",
      "source": [
        "from sympy.solvers import solve\n",
        "from sympy import symbols\n",
        "n = symbols(\"n\")\n",
        "solve(n*n - n - 306, n)"
      ],
      "metadata": {
        "colab": {
          "base_uri": "https://localhost:8080/"
        },
        "id": "5mUVpwpsITWg",
        "outputId": "2c1db0a7-2991-4d5b-ce90-d4b4e48edb64"
      },
      "execution_count": 32,
      "outputs": [
        {
          "output_type": "execute_result",
          "data": {
            "text/plain": [
              "[-17, 18]"
            ]
          },
          "metadata": {},
          "execution_count": 32
        }
      ]
    },
    {
      "cell_type": "markdown",
      "source": [
        "15- Bir kutuda 10 adet top vardır. Topların 3 tanesi kırmızı, 7 tanesi mavidir. Alınan 6 topun hepsinin aynı renk olmadığı veya en fazla 2 tane topun kırmızı olabileceği kaç farklı durum vardır? \n",
        "\n",
        "CEVAP: 1 ve 2 adet kırmızı topun olduğu senaryolar hesaplanır\n"
      ],
      "metadata": {
        "id": "_H65IEDpkAes"
      }
    },
    {
      "cell_type": "code",
      "source": [
        "nb_of_balls = 10\n",
        "nb_of_red_balls = 3\n",
        "nb_of_blue_balls = 7\n",
        "balls_to_draw = 6\n",
        "balls_red_most = 2\n",
        "balls_blue = 7\n",
        "most_two_red_balls_case = 0\n",
        "all_cases = combination(nb_of_balls, balls_to_draw)\n",
        "for i in range(1, balls_red_most+1):\n",
        "  most_two_red_balls_case += (combination(nb_of_red_balls, i) * combination(nb_of_blue_balls, balls_to_draw-i))\n",
        "\n",
        "print(most_two_red_balls_case)"
      ],
      "metadata": {
        "id": "J_e-8gy1L7kn",
        "colab": {
          "base_uri": "https://localhost:8080/"
        },
        "outputId": "619e043d-678f-4baf-d74c-80912bdf16e1"
      },
      "execution_count": 44,
      "outputs": [
        {
          "output_type": "stream",
          "name": "stdout",
          "text": [
            "168\n"
          ]
        }
      ]
    },
    {
      "cell_type": "markdown",
      "source": [
        "16- 8 kişilik mürettebattan seçili 3 tanesi sadece sağda oturabilmektedir. Seçili diğer 2 tanesi sadece solda oturabilmektedir. Mürettabatın sağda ve solda 4 kişi oturacak şekilde kaç farklı oturma şekli vardır?\n",
        "\n",
        "CEVAP: Seçilebilecek 3 kişi kalmıştır. Sağ taraf için C(3, 1) seçilir, sol taraf için zaten C(2, 2) kalmıştır. 4 kişilik gruplar aralarında 4! sıralanabilir. \n",
        "\n",
        "4!.4!.C(3, 1) = 1728"
      ],
      "metadata": {
        "id": "EZJdQzWdoLAw"
      }
    },
    {
      "cell_type": "code",
      "source": [
        "combination(3, 1)*permutation(4, 4)*permutation(4, 4)"
      ],
      "metadata": {
        "colab": {
          "base_uri": "https://localhost:8080/"
        },
        "id": "sVQNXNNjiatg",
        "outputId": "6e2fdc22-5a21-4980-d13c-2b0d893e05d5"
      },
      "execution_count": 45,
      "outputs": [
        {
          "output_type": "execute_result",
          "data": {
            "text/plain": [
              "1728"
            ]
          },
          "metadata": {},
          "execution_count": 45
        }
      ]
    },
    {
      "cell_type": "code",
      "source": [],
      "metadata": {
        "id": "axNLRyn5peSY"
      },
      "execution_count": null,
      "outputs": []
    }
  ]
}