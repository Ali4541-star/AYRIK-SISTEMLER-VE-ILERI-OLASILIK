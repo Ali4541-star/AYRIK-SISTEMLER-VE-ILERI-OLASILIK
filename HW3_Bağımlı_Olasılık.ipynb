{
  "nbformat": 4,
  "nbformat_minor": 0,
  "metadata": {
    "colab": {
      "provenance": [],
      "authorship_tag": "ABX9TyP1sU4XaisGPL6B3wer/rc5",
      "include_colab_link": true
    },
    "kernelspec": {
      "name": "python3",
      "display_name": "Python 3"
    },
    "language_info": {
      "name": "python"
    }
  },
  "cells": [
    {
      "cell_type": "markdown",
      "metadata": {
        "id": "view-in-github",
        "colab_type": "text"
      },
      "source": [
        "<a href=\"https://colab.research.google.com/github/Ali4541-star/AYRIK-SISTEMLER-VE-ILERI-OLASILIK/blob/main/HW3_Ba%C4%9F%C4%B1ml%C4%B1_Olas%C4%B1l%C4%B1k.ipynb\" target=\"_parent\"><img src=\"https://colab.research.google.com/assets/colab-badge.svg\" alt=\"Open In Colab\"/></a>"
      ]
    },
    {
      "cell_type": "code",
      "execution_count": 1,
      "metadata": {
        "id": "pkcYlIyAIv_L"
      },
      "outputs": [],
      "source": [
        "from dataclasses import dataclass"
      ]
    },
    {
      "cell_type": "markdown",
      "source": [
        "Bir kağıt destesi içinde 4 adet kupa ve 6 adet sinek kartı bulunuyor. İlk kart kupa, ikinci kartın sinek olma olasılığı nedir? \n",
        "\n",
        "Çözüm: İlk kartın kupa olması 4/10, ikinci kartın sinek olması ilk kartın çekilmiş olmasından dolayı 6/9'dur. Sonuç 24/90'dır"
      ],
      "metadata": {
        "id": "wXHwUgtpJJtl"
      }
    },
    {
      "cell_type": "code",
      "source": [
        "@dataclass(frozen=True)\n",
        "class Cards:\n",
        "  clubs: int = 6\n",
        "  hearts: int = 4\n",
        "  total: int = 10\n",
        "print(f\"{Cards.hearts/Cards.total * Cards.clubs/(Cards.total-1):.4f}\")"
      ],
      "metadata": {
        "colab": {
          "base_uri": "https://localhost:8080/"
        },
        "id": "I8jJYyV6Jkmh",
        "outputId": "61d5b33e-6492-4821-9c38-93727bdcef85"
      },
      "execution_count": 6,
      "outputs": [
        {
          "output_type": "stream",
          "name": "stdout",
          "text": [
            "0.2667\n"
          ]
        }
      ]
    },
    {
      "cell_type": "markdown",
      "source": [
        "Bir hastanede, 1000 hastanın %60'ı erkek, %40'ı kadındır. Erkek hastaların %5'i kalp krizi geçirirken, kadın hastaların %3'ü kalp krizi geçiriyor. Rastgele bir hastanın kalp krizi geçirdiği bilindiğine göre, bu hastanın erkek olma olasılığı nedir?\n",
        "\n",
        "ÇÖZÜM:\n",
        "\n",
        "P(E) = 0.6\n",
        "\n",
        "P(KK|E) = 0.05\n",
        "\n",
        "P(KK) = P(E) x P(KK|E) + P(K) x P(KK|K)\n",
        "\n",
        "P(KK) = 0.6 x 0.05 + 0.4 x 0.03 = 0.042\n",
        "\n",
        "P(E|KK) = P(E) x P(KK|E) / P(KK) = 0.714"
      ],
      "metadata": {
        "id": "OTlEwxjFKsdN"
      }
    },
    {
      "cell_type": "code",
      "source": [
        "@dataclass(frozen=True)\n",
        "class Patients:\n",
        "  male: int = 600\n",
        "  female: int = 400\n",
        "  total: int = 1_000\n",
        "  prob_male_HA: float = 0.05\n",
        "  prob_female_HA: float = 0.03\n",
        "\n",
        "Patients.HA_prob = (Patients.male/Patients.total) * Patients.prob_male_HA + \\\n",
        "(Patients.female/Patients.total) * Patients.prob_female_HA\n",
        "print(Patients.HA_prob)\n",
        "\n",
        "print(f\"{(Patients.male/Patients.total) * Patients.prob_male_HA / Patients.HA_prob:.3f}\")\n",
        "  "
      ],
      "metadata": {
        "colab": {
          "base_uri": "https://localhost:8080/"
        },
        "id": "xeNxJFHgKECm",
        "outputId": "f63c22a6-9a10-4a90-ae09-8953fd5e4408"
      },
      "execution_count": 9,
      "outputs": [
        {
          "output_type": "stream",
          "name": "stdout",
          "text": [
            "0.041999999999999996\n",
            "0.714\n"
          ]
        }
      ]
    },
    {
      "cell_type": "markdown",
      "source": [
        "Bir fabrikada üretilen parçaların %5'i hatalıdır. Bir kontrol mekanizması, hatalı parçaların %90'ını doğru şekilde hatalı, %10'unu yanlış şekilde hatasız olarak tanımlayabilir. Ancak, hatalı olmayan bir parçayı hatalı olarak tanımlama olasılığı %3'tür. Rastgele seçilen bir parça hatalı tespit edildiğine görebu parçanın gerçekten hatalı olma olasılığı nedir?\n",
        "\n",
        "Çözüm: \n",
        "\n",
        "P(P Hatalı|T Hatalı) = ?\n",
        "\n",
        "P(P Hatalı) = 0.05\n",
        "\n",
        "P(P Hatasız) = 0.95\n",
        "\n",
        "P(T Hatalı|P Hatalı) = 0.9\n",
        "\n",
        "P(T Hatasız|P Hatalı) = 0.1\n",
        "\n",
        "P(T Hatalı|P Hatasız) = 0.03\n",
        "\n",
        "P(T Hatasız|P Hatasız) = 0.97\n",
        "\n",
        "P(T Hatalı) = P(P Hatasız)xP(T Hatalı|P Hatasız) + P(P Hatalı)xP(T Hatalı|P Hatalı) = 0.0285 + 0.045 = 0.0735\n",
        "\n",
        "P(P Hatalı|T Hatalı) = P(P Hatalı) * P(T Hatalı|P Hatalı) / P(T Hatalı) = 0.045 / 0.0735 = 0.612"
      ],
      "metadata": {
        "id": "T_o6HMvEOuaT"
      }
    },
    {
      "cell_type": "code",
      "source": [
        "@dataclass(frozen = True)\n",
        "class Pieces:\n",
        "  PFaulty = 0.05\n",
        "  PNotFaulty = 0.95\n",
        "  PTrueFaulty = 0.9\n",
        "  PFalseNotFaulty = 0.1\n",
        "  PTrueNotFaulty = 0.97\n",
        "  PFalseFaulty = 0.03\n",
        "\n",
        "Pieces.Estimated_faulty = Pieces.PNotFaulty * Pieces.PFalseFaulty + Pieces.PFaulty * Pieces.PTrueFaulty\n",
        "\n",
        "print(f\"{Pieces.PFaulty*Pieces.PTrueFaulty/Pieces.Estimated_faulty:.3f}\")"
      ],
      "metadata": {
        "colab": {
          "base_uri": "https://localhost:8080/"
        },
        "id": "nimOeMXmOHxv",
        "outputId": "6dc924f9-5e23-4f8f-e7a9-fb37de7ea770"
      },
      "execution_count": 14,
      "outputs": [
        {
          "output_type": "stream",
          "name": "stdout",
          "text": [
            "0.612\n"
          ]
        }
      ]
    },
    {
      "cell_type": "code",
      "source": [],
      "metadata": {
        "id": "u2Akc9AgOsvW"
      },
      "execution_count": null,
      "outputs": []
    }
  ]
}