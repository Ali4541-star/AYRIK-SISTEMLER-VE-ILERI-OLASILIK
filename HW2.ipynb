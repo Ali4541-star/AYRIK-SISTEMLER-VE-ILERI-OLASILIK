{
  "nbformat": 4,
  "nbformat_minor": 0,
  "metadata": {
    "colab": {
      "provenance": [],
      "authorship_tag": "ABX9TyOHb96T05hiMK7aBOi4CYht",
      "include_colab_link": true
    },
    "kernelspec": {
      "name": "python3",
      "display_name": "Python 3"
    },
    "language_info": {
      "name": "python"
    }
  },
  "cells": [
    {
      "cell_type": "markdown",
      "metadata": {
        "id": "view-in-github",
        "colab_type": "text"
      },
      "source": [
        "<a href=\"https://colab.research.google.com/github/Ali4541-star/AYRIK-SISTEMLER-VE-ILERI-OLASILIK/blob/main/HW2.ipynb\" target=\"_parent\"><img src=\"https://colab.research.google.com/assets/colab-badge.svg\" alt=\"Open In Colab\"/></a>"
      ]
    },
    {
      "cell_type": "code",
      "source": [
        "def factorial(n: int) -> int:\n",
        "  if n == 0:\n",
        "    return 1\n",
        "  return n * factorial(n-1)\n",
        "\n",
        "def permutation(n: int, r: int) -> int:\n",
        "  assert n >= r, \"Sıralanacak elemanların sayısı toplam eleman sayısından fazla olamaz\"\n",
        "  return factorial(n)//factorial(n-r)\n",
        "\n",
        "def combination(n: int, r:int) -> int:\n",
        "  return factorial(n)//(factorial(r)*factorial(n-r))"
      ],
      "metadata": {
        "id": "Uv-f2HpHi1tD"
      },
      "execution_count": 1,
      "outputs": []
    },
    {
      "cell_type": "markdown",
      "source": [
        "1) A kutusunda 4 kırmızı ve 5 mavi top, B kutusunda 3 kırmızı ve 4 mavi top vardır. Bu bilgilere göre, aşağıdaki soruları cevaplayınız.\n",
        "\n",
        "a) İki kutudan da birer top alındığında renklerinin farklı olma olasılığı kaçtır?\n",
        "\n",
        "b) İki kutudan da birer top alındığında renklerinin aynı olma olasdığı kaçtır?\n",
        "\n",
        "c) A kutusundan bir top alınıp B kutusuna atılıyor. Bu İşlemin ardından B kutusundan alınan bir topun mavi olma olasılığı kaçtır?\n"
      ],
      "metadata": {
        "id": "IQpLO2OU8v8f"
      }
    },
    {
      "cell_type": "code",
      "source": [
        "box1 = (4, 5) # K, M\n",
        "box2 = (3, 4)"
      ],
      "metadata": {
        "id": "UUwp2g-hj7n-"
      },
      "execution_count": 3,
      "outputs": []
    },
    {
      "cell_type": "markdown",
      "source": [
        "a) İki durum vardır\n",
        "\n",
        "1- Mavi ve kırmızı çekilmesi\n",
        "\n",
        "C(5, 1)/C(9, 1) + C(3, 1)/C(7, 1)\n",
        "\n",
        "2- Kırmızı ve mavi çekilmesi\n",
        "\n",
        "C(4, 1)/C(9, 1) + C(4, 1)/C(7, 1)"
      ],
      "metadata": {
        "id": "zBLDhBkXjIAQ"
      }
    },
    {
      "cell_type": "code",
      "source": [
        "selected_BR = (combination(box1[1], 1)/ combination(sum(box1), 1)) * (combination(box2[0], 1)/ combination(sum(box2), 1))\n",
        "selected_RB = (combination(box1[0], 1)/ combination(sum(box1), 1)) * (combination(box2[1], 1)/ combination(sum(box2), 1))\n",
        "prob_different_color = selected_BR + selected_RB \n",
        "print(prob_different_color) #31/63"
      ],
      "metadata": {
        "colab": {
          "base_uri": "https://localhost:8080/"
        },
        "id": "xMOLdoQhi1QI",
        "outputId": "a0025330-e12a-495e-8ab1-88559df85f8e"
      },
      "execution_count": 9,
      "outputs": [
        {
          "output_type": "stream",
          "name": "stdout",
          "text": [
            "0.49206349206349204\n",
            "0.49206349206349204\n"
          ]
        }
      ]
    },
    {
      "cell_type": "markdown",
      "source": [
        "b) İki topun farklı gelme olasılığı tüm durumlardan (a) urumunun farkına eşittir"
      ],
      "metadata": {
        "id": "mHysEK0dlTO1"
      }
    },
    {
      "cell_type": "code",
      "source": [
        "prob_same_color = 1 - prob_different_color\n",
        "print(prob_same_color) # 32/63"
      ],
      "metadata": {
        "colab": {
          "base_uri": "https://localhost:8080/"
        },
        "id": "rgCH8GJ-k3WW",
        "outputId": "62da8a63-2320-45a4-82e3-f3bada794e6e"
      },
      "execution_count": 10,
      "outputs": [
        {
          "output_type": "stream",
          "name": "stdout",
          "text": [
            "0.5079365079365079\n"
          ]
        }
      ]
    },
    {
      "cell_type": "markdown",
      "source": [
        "c) A kutusundan atılan top B kutusundan çekilecek topun olasılığını etkiler. Bu nedenle bulunması gereken \n",
        "\n",
        "A'dan mavi çekilip B'ye atınca B'den mavi çekme olasılığı + A'dan kırmızı çekilip B'ye atınca B'den mavi çekme olasılığıdır. A'dan top atılacağı için B'nin olasılığının değiştiğini unutmamak gerekir"
      ],
      "metadata": {
        "id": "du58ANr-lq7f"
      }
    },
    {
      "cell_type": "code",
      "source": [
        "prob_blue_box1 = combination(box1[1], 1)/combination(sum(box1), 1) \n",
        "prob_red_box1 = combination(box1[0], 1)/combination(sum(box1), 1) \n",
        "prob_blue_box2_case_red = combination(box2[1], 1)/combination(sum(box2)+1, 1)\n",
        "prob_blue_box2_case_blue = combination(box2[1]+1, 1)/combination(sum(box2)+1, 1) \n",
        "print(prob_blue_box1*prob_blue_box2_case_blue + prob_red_box1*prob_blue_box2_case_red) # 41/72"
      ],
      "metadata": {
        "colab": {
          "base_uri": "https://localhost:8080/"
        },
        "id": "G_aJ9xYjmvv9",
        "outputId": "5698a84f-011c-44bc-a95e-eaab188f7833"
      },
      "execution_count": 22,
      "outputs": [
        {
          "output_type": "stream",
          "name": "stdout",
          "text": [
            "0.5694444444444444\n",
            "0.5694444444444444\n"
          ]
        }
      ]
    },
    {
      "cell_type": "markdown",
      "source": [
        "2) Bir torbada 4 ū kırmızı olan n top vardır. Bu torbadan alinan\n",
        "2 topun ikisininde kırmızı olma olasılığı 2/5 ise n kaçtır?\n"
      ],
      "metadata": {
        "id": "rnPod3yU9ZU-"
      }
    },
    {
      "cell_type": "markdown",
      "source": [
        "4/n * 3/(n-1) = 12/(n^2-n)\n",
        "\n",
        "12/(n^2-n) = 2/5 -> n^2-n-30 = 0"
      ],
      "metadata": {
        "id": "qv4k0zeH7dXO"
      }
    },
    {
      "cell_type": "code",
      "source": [
        "from sympy.solvers import solve\n",
        "from sympy import symbols\n",
        "n = symbols(\"n\")\n",
        "[el for el in solve(n**2-n-30, n) if el > 0]\n"
      ],
      "metadata": {
        "colab": {
          "base_uri": "https://localhost:8080/"
        },
        "id": "9qQs12zbBdLd",
        "outputId": "21eb5696-46e0-494e-e4b9-ed481f4223b8"
      },
      "execution_count": 78,
      "outputs": [
        {
          "output_type": "execute_result",
          "data": {
            "text/plain": [
              "[6]"
            ]
          },
          "metadata": {},
          "execution_count": 78
        }
      ]
    },
    {
      "cell_type": "markdown",
      "source": [
        "3) Hileli bir paranın yazı gelme olasılığı ¼, tura gelme olasılığı ¾’tür.Buna göre aşağıdaki soruları cevaplayınız.\n",
        "\n",
        "a) Bu para ard arda 5 kez atildiginda sadece ikinci atışta yazı gelme olasılığı kaçtır? \n",
        "\n",
        "b) Bu para 5 kez atıldığında 1 kez yazı gelme olasıliği kaçtır?\n",
        "\n",
        "c) Bu para 6 kez atıldığında 2 kez tura gelme olasılığı kaçtır?"
      ],
      "metadata": {
        "id": "G5POwWH9-zuH"
      }
    },
    {
      "cell_type": "markdown",
      "source": [
        "a) Olaylar birbirinden bağımsızdır. Dolayısıyla 1/4 * (3/4)^4 \n",
        "\n",
        "b) Paranın atılma olayı bağımsız olduğu için 1/4 * (3/4)^4.\n",
        "\n",
        "YTTTT -> Yer değiştirebileceğinden dolayı P(5, 5)/P(4, 4) ile çarpılmalıdır\n",
        "\n",
        "c) (3/4)^2 * (1/4)^4. Aralarında P(6, 6)/(P(4, 4)*P(2, 2)) sıralama yapılabilir "
      ],
      "metadata": {
        "id": "ReJZdf0pD-cD"
      }
    },
    {
      "cell_type": "code",
      "source": [
        "chance_head = 1/4\n",
        "chance_tail = 3/4\n",
        "\n",
        "# a)\n",
        "print(f\"a:{chance_head * chance_tail**4}\")\n",
        "# b)\n",
        "print(f\"b:{(chance_head * chance_tail**4) * permutation(5, 5)/permutation(4, 4) == 405/1024}\")\n",
        "# c) \n",
        "print(f\"b:{(chance_head**4 * chance_tail**2) * permutation(6, 6)/(permutation(4, 4) * permutation(2, 2))}\")"
      ],
      "metadata": {
        "colab": {
          "base_uri": "https://localhost:8080/"
        },
        "id": "X0d3h2goEllo",
        "outputId": "95c9c219-ce27-4be4-8297-1c52ea68e6ed"
      },
      "execution_count": 67,
      "outputs": [
        {
          "output_type": "stream",
          "name": "stdout",
          "text": [
            "a:0.0791015625\n",
            "b:True\n",
            "b:0.032958984375\n"
          ]
        }
      ]
    },
    {
      "cell_type": "markdown",
      "source": [
        "4) Bir çift zar atıldığında ust yüzlerden birine 2 geldiği bilindiğine göre, üst yüze gelen sayıların toplamının 5 olma olasılığı kaçtır?\n",
        "\n",
        "2 gelmiş olması koşullu olasılığı göstermektedir. İki zardan birinin 2 olabileceği 6'şar senaryo kalmıştır. (2, 2) durumu iki zar için kesişim olduğundan çıkartılmalıdır. 11 farklı durumdan 2 tanesinin [(2, 3), (3, 2)] toplamı 5 yapmaktadır. Cevap 2/11  "
      ],
      "metadata": {
        "id": "ZdXg1crE-37g"
      }
    },
    {
      "cell_type": "code",
      "source": [
        "import numpy as np\n",
        "total = 5 \n",
        "dice1 = np.arange(1, 7, 1)\n",
        "dice2 = dice1.copy()\n",
        "dice1_sum5 = np.argwhere(dice1 + 2 == 5)\n",
        "dice2_sum5 = np.argwhere(dice2 + 2 == 5)\n",
        "print(((len(dice1_sum5) + len(dice2_sum5))/(len(dice1)*2-1)) == 2/11)"
      ],
      "metadata": {
        "colab": {
          "base_uri": "https://localhost:8080/"
        },
        "id": "kmes0xmXLbJa",
        "outputId": "baa6f6f0-76c1-44c7-a05b-310b137b0098"
      },
      "execution_count": 62,
      "outputs": [
        {
          "output_type": "stream",
          "name": "stdout",
          "text": [
            "True\n"
          ]
        }
      ]
    },
    {
      "cell_type": "markdown",
      "source": [
        "5)\n",
        "\n",
        "a)4 farklı kilide ait 4 anahtarı bulunan bir kişi, eğer hangi anahtarın hangi kilidi açtığını bilmiyorsa en çok kaç denemede kilitli durumdaki bu 4 kilidi de açar?\n",
        "\n",
        "b) Sadece hangi anahtarın hangi kilidi açtığını bulmak için en çok kaç deneme yapmalıdır?"
      ],
      "metadata": {
        "id": "AtfHxl3L-5Fv"
      }
    },
    {
      "cell_type": "markdown",
      "source": [
        "a) Her kilit için en çok sayıda denemeyi yapmalıdır. Her adımda seçmesi gereken anahtar sayısı 1 azalmaktadır\n",
        "\n",
        "b) Bu durumda her kilit için son anahtarın kilidi açtığı bilinmektedir"
      ],
      "metadata": {
        "id": "a1N5GTTeNukx"
      }
    },
    {
      "cell_type": "code",
      "execution_count": 44,
      "metadata": {
        "id": "_OyKKCyx5KNj",
        "colab": {
          "base_uri": "https://localhost:8080/"
        },
        "outputId": "e3e71040-74dd-48b0-a617-5d37489fb168"
      },
      "outputs": [
        {
          "output_type": "stream",
          "name": "stdout",
          "text": [
            "24\n",
            "6\n"
          ]
        }
      ],
      "source": [
        "# a)\n",
        "print(combination(4, 1)*combination(3, 1)*combination(2, 1)*combination(1, 1))\n",
        "\n",
        "# b)\n",
        "print(combination(3, 1)*combination(2, 1)*combination(1, 1))"
      ]
    },
    {
      "cell_type": "code",
      "source": [],
      "metadata": {
        "id": "Aq2myEmHOZco"
      },
      "execution_count": null,
      "outputs": []
    }
  ]
}